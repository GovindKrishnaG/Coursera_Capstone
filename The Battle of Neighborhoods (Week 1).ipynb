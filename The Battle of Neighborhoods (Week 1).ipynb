{
 "cells": [
  {
   "cell_type": "markdown",
   "metadata": {},
   "source": [
    "# The Battle of Neighborhoods (Week 1)"
   ]
  },
  {
   "cell_type": "markdown",
   "metadata": {},
   "source": [
    "******"
   ]
  },
  {
   "cell_type": "markdown",
   "metadata": {},
   "source": [
    "## 1. Introduction And Business Problem\n"
   ]
  },
  {
   "cell_type": "markdown",
   "metadata": {},
   "source": [
    "### Problem statement : To find a suitable location for opening a restaurant "
   ]
  },
  {
   "cell_type": "markdown",
   "metadata": {},
   "source": [
    "The city I will be analalysing for finding the suitable location will be **New York**\n",
    "\n",
    "The City of New York, usually called either New York City (NYC) or simply New York (NY), is the most populous city in the United States. With an estimated 2018 population of 8,398,748 distributed over a land area of about 302.6 square miles (784 km2), New York is also the most densely populated major city in the United States.\n",
    "\n",
    "#### City economic overview\n",
    "\n",
    "New York City is a global hub of business and commerce, as a center for banking and finance, retailing, world trade, transportation, tourism, real estate, new media, traditional media, advertising, legal services, accountancy, insurance, theater, fashion, and the arts in the United States; while Silicon Alley, metonymous for New York's broad-spectrum high technology sphere, continues to expand. "
   ]
  },
  {
   "cell_type": "markdown",
   "metadata": {},
   "source": [
    "In this project I will be analysing the neighbourhood of New York based on certain factors to find a location that would be suitable for opening a new restaurant.\n",
    "The different factors I will be considering are:\n",
    "* Location of other restaurants in the area.\n",
    "* Nearby colleges and school ( so that they can start a section that could attract them)\n",
    "* vicinity \n",
    "* Distance from Airports \n",
    "* Historically significant area in the neighbourhood that can attract toursits\n",
    "* Menu of the competitors \n",
    "* Availability of food materials ( Any markets nearby)"
   ]
  },
  {
   "cell_type": "markdown",
   "metadata": {},
   "source": [
    "## 2. Data description\n"
   ]
  },
  {
   "cell_type": "markdown",
   "metadata": {},
   "source": [
    "The data includes :\n",
    "1. A dataset to segement the neighborhoods and explore them ,the data set consist of 5 boroughs and 306 neighborhoods.\n",
    " https://geo.nyu.edu/catalog/nyu_2451_34572\n",
    "2. The Foursquare API will be used to explore neighborhoods in New York City\n",
    "3. Newyork city geographical coordinates data will be utilized as input for the Foursquare API"
   ]
  },
  {
   "cell_type": "markdown",
   "metadata": {},
   "source": [
    "## 3. Methodology"
   ]
  },
  {
   "cell_type": "markdown",
   "metadata": {},
   "source": [
    "Map will be used for evaluation of neighbourhood , a suitable location will be identified for opening a new restaurant based on the various factors above . Comparing opening and closing time of competitors,and closeness from different public transport systems."
   ]
  },
  {
   "cell_type": "markdown",
   "metadata": {},
   "source": [
    "## 4. The target audience"
   ]
  },
  {
   "cell_type": "markdown",
   "metadata": {},
   "source": [
    "The main people the restaurant target will be tourists.The native citizens will be attracted to the restaurant by introducing a broad spectrum menu that include food from different countries so that they can experience different dishes around the world at a single place.Economically weeker sctions will be attracted by introducing offers and discount in the weekend. "
   ]
  },
  {
   "cell_type": "markdown",
   "metadata": {},
   "source": [
    "## 5. Expected outcome"
   ]
  },
  {
   "cell_type": "markdown",
   "metadata": {},
   "source": [
    "At the end of the project I will be able to suggest a suitable place for opening of **restaurant**."
   ]
  }
 ],
 "metadata": {
  "kernelspec": {
   "display_name": "Python 3",
   "language": "python",
   "name": "python3"
  },
  "language_info": {
   "codemirror_mode": {
    "name": "ipython",
    "version": 3
   },
   "file_extension": ".py",
   "mimetype": "text/x-python",
   "name": "python",
   "nbconvert_exporter": "python",
   "pygments_lexer": "ipython3",
   "version": "3.7.3"
  }
 },
 "nbformat": 4,
 "nbformat_minor": 2
}
